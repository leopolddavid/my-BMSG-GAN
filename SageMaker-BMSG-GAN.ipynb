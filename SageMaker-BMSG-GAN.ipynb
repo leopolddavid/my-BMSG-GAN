{
 "cells": [
  {
   "cell_type": "markdown",
   "metadata": {
    "collapsed": true
   },
   "source": [
    "# SageMaker training for BMSG-GAN"
   ]
  },
  {
   "cell_type": "markdown",
   "metadata": {},
   "source": [
    "Ensure training datasets in either:\n",
    "\n",
    "S3://BUCKET/datasets/celeba/center-aligned/train\n",
    "\n",
    "S3://BUCKET/datasets/celeba-hq/train\n",
    "\n",
    "Output will be in S3://BUCKET/bmsg-gan/model"
   ]
  },
  {
   "cell_type": "code",
   "execution_count": null,
   "metadata": {},
   "outputs": [],
   "source": [
    "BUCKET='my-bucket-name'\n",
    "\n",
    "from sagemaker import get_execution_role\n",
    "role = get_execution_role()\n",
    "print(role)"
   ]
  },
  {
   "cell_type": "code",
   "execution_count": null,
   "metadata": {},
   "outputs": [],
   "source": [
    "from sagemaker.pytorch import PyTorch\n",
    "\n",
    "pytorch_estimator = PyTorch(entry_point='train.py',\n",
    "                            role=role,\n",
    "                            train_instance_type='ml.p3.2xlarge',  \n",
    "                            train_instance_count=1,\n",
    "                            framework_version='1.0.0',\n",
    "                            source_dir='./sourcecode',\n",
    "                            output_path='s3://{}/bmsg-gan/model'.format(BUCKET),\n",
    "                            hyperparameters = {\n",
    "                                'depth': 7,\n",
    "                                'latent_size': 512,\n",
    "                            })"
   ]
  },
  {
   "cell_type": "code",
   "execution_count": null,
   "metadata": {
    "scrolled": false
   },
   "outputs": [],
   "source": [
    "pytorch_estimator.fit({'training': 's3://{}/datasets/celeba/center-aligned/train'.format(BUCKET)})"
   ]
  },
  {
   "cell_type": "code",
   "execution_count": null,
   "metadata": {},
   "outputs": [],
   "source": []
  }
 ],
 "metadata": {
  "kernelspec": {
   "display_name": "conda_pytorch_p36",
   "language": "python",
   "name": "conda_pytorch_p36"
  },
  "language_info": {
   "codemirror_mode": {
    "name": "ipython",
    "version": 3
   },
   "file_extension": ".py",
   "mimetype": "text/x-python",
   "name": "python",
   "nbconvert_exporter": "python",
   "pygments_lexer": "ipython3",
   "version": "3.6.5"
  }
 },
 "nbformat": 4,
 "nbformat_minor": 1
}
